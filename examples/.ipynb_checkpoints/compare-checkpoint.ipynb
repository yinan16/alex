{
 "cells": [
  {
   "cell_type": "code",
   "execution_count": 1,
   "metadata": {},
   "outputs": [],
   "source": [
    "from alex import dsl_parser\n",
    "from alex import tree\n"
   ]
  },
  {
   "cell_type": "code",
   "execution_count": 2,
   "metadata": {},
   "outputs": [],
   "source": [
    "def diff(network_config_1,\n",
    "         network_config_2,\n",
    "         render_to=None):\n",
    "    graph_list1 = dsl_parser.parse(network_config_1)\n",
    "    graph1 = dsl_parser.list_to_graph(graph_list1)\n",
    "    graph_list2 = dsl_parser.parse(network_config_2)\n",
    "    graph2 = dsl_parser.list_to_graph(graph_list2)\n",
    "\n",
    "    tree.diff(graph1, graph2, render_to=render_to)\n",
    "\n",
    "\n",
    "def distance(network_config_1,\n",
    "             network_config_2,\n",
    "             render_to=None):\n",
    "    graph_list1 = dsl_parser.parse(network_config_1)\n",
    "    graph1 = dsl_parser.list_to_graph(graph_list1)\n",
    "    graph_list2 = dsl_parser.parse(network_config_2)\n",
    "    graph2 = dsl_parser.list_to_graph(graph_list2)\n",
    "\n",
    "    tree.distance(graph1, graph2, render_to=render_to)\n"
   ]
  },
  {
   "cell_type": "code",
   "execution_count": null,
   "metadata": {},
   "outputs": [],
   "source": [
    "config_path_1 = \"test/data/test.yml\"\n",
    "config_path_2 = \"test/data/test2.yml\"\n",
    "\n",
    "render_diff_path = \"\"\n",
    "diff(config_path_1, config_path_2, render_to=render_diff_path)\n",
    "\n",
    "render_dist_path = \"\"\n",
    "distance(config_path_1, config_path_2, render_to=render_dist_path)\n"
   ]
  }
 ],
 "metadata": {
  "kernelspec": {
   "display_name": "Python 3",
   "language": "python",
   "name": "python3"
  },
  "language_info": {
   "codemirror_mode": {
    "name": "ipython",
    "version": 3
   },
   "file_extension": ".py",
   "mimetype": "text/x-python",
   "name": "python",
   "nbconvert_exporter": "python",
   "pygments_lexer": "ipython3",
   "version": "3.8.5"
  }
 },
 "nbformat": 4,
 "nbformat_minor": 4
}
